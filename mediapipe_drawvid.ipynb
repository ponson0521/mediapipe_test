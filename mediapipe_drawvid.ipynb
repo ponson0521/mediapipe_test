{
 "cells": [
  {
   "cell_type": "code",
   "execution_count": 4,
   "id": "0666b156-e69c-4baa-9a37-65d8eabe0b1f",
   "metadata": {},
   "outputs": [],
   "source": [
    "import cv2\n",
    "import mediapipe as mp\n",
    "import numpy as np"
   ]
  },
  {
   "cell_type": "code",
   "execution_count": 7,
   "id": "7c1282f6-d1da-4187-8bc9-bfa96f3658fe",
   "metadata": {},
   "outputs": [
    {
     "name": "stdout",
     "output_type": "stream",
     "text": [
      "Cannot receive frame\n"
     ]
    }
   ],
   "source": [
    "mp_drawing = mp.solutions.drawing_utils          # mediapipe 繪圖方法\n",
    "mp_drawing_styles = mp.solutions.drawing_styles  # mediapipe 繪圖樣式\n",
    "mp_hands = mp.solutions.hands                    # mediapipe 偵測手掌方法\n",
    "cap = cv2.VideoCapture('529a.mp4')\n",
    "i = 0\n",
    "\n",
    "with mp_hands.Hands(\n",
    "    model_complexity=1,\n",
    "    max_num_hands=1,\n",
    "    min_detection_confidence=0.3,\n",
    "    min_tracking_confidence=0.3) as hands:\n",
    "\n",
    "    if not cap.isOpened():\n",
    "        print(\"Cannot open camera\")\n",
    "        exit()\n",
    "    while True:\n",
    "        ret, img = cap.read()\n",
    "        if not ret:\n",
    "            print(\"Cannot receive frame\")\n",
    "            break\n",
    "        i += 1\n",
    "        cv2.imshow('oxxostudio1', img)\n",
    "        img2 = cv2.cvtColor(img, cv2.COLOR_BGR2RGB)   # 將 BGR 轉換成 RGB\n",
    "#         imgorigin = cv2.cvtColor(img2, cv2.COLOR_RGB2BGR)    # 沒有偵測節點的原圖片\n",
    "        results = hands.process(img2)                 # 偵測手掌\n",
    "        if results.multi_hand_landmarks:\n",
    "            blank_image = np.zeros((480,480,3), np.uint8)\n",
    "            blank_image.fill(255)\n",
    "            for hand_landmarks in results.multi_hand_landmarks:\n",
    "                # 將節點和骨架繪製到影像中\n",
    "                mp_drawing.draw_landmarks(\n",
    "                    blank_image,\n",
    "                    hand_landmarks,\n",
    "                    mp_hands.HAND_CONNECTIONS,\n",
    "                    mp_drawing_styles.get_default_hand_landmarks_style(),\n",
    "                    mp_drawing_styles.get_default_hand_connections_style())\n",
    "        cv2.imshow('oxxostudio', blank_image)\n",
    "#         out2.write(img)    # 寫入影片\n",
    "        cv2.imwrite('image{}.jpg'.format(i), blank_image)    # 寫入圖片\n",
    "        if cv2.waitKey(1) & 0xFF == ord('q'):\n",
    "            break    # 按下 q 鍵停止\n",
    "    \n",
    "    \n",
    "cap.release()\n",
    "# out2.release()\n",
    "cv2.destroyAllWindows()"
   ]
  },
  {
   "cell_type": "code",
   "execution_count": null,
   "id": "b0a89836-f458-49a0-a882-0c2123198d5f",
   "metadata": {},
   "outputs": [],
   "source": []
  }
 ],
 "metadata": {
  "kernelspec": {
   "display_name": "Python 3 (ipykernel)",
   "language": "python",
   "name": "python3"
  },
  "language_info": {
   "codemirror_mode": {
    "name": "ipython",
    "version": 3
   },
   "file_extension": ".py",
   "mimetype": "text/x-python",
   "name": "python",
   "nbconvert_exporter": "python",
   "pygments_lexer": "ipython3",
   "version": "3.9.15"
  }
 },
 "nbformat": 4,
 "nbformat_minor": 5
}
