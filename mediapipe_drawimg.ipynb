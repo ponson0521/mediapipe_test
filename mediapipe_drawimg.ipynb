{
 "cells": [
  {
   "cell_type": "code",
   "execution_count": 2,
   "id": "b54f7071-7c58-46e8-ad06-25e25ecb20e9",
   "metadata": {},
   "outputs": [],
   "source": [
    "import cv2\n",
    "import os\n",
    "import mediapipe as mp\n",
    "import numpy as np"
   ]
  },
  {
   "cell_type": "code",
   "execution_count": 3,
   "id": "478fadb1-27c4-49e4-a155-256c918229c1",
   "metadata": {},
   "outputs": [
    {
     "name": "stdout",
     "output_type": "stream",
     "text": [
      "['.ipynb_checkpoints', '601MR_DQ1.jpg', '601MR_DQ2.jpg', '601MR_DQ3.jpg', '601MR_DT1.jpg', '601MR_DT2.jpg', '601MR_DT3.jpg', '601MR_LQ1.jpg', '601MR_LQ2.jpg', '601MR_LQ3.jpg', '601MR_LT1.jpg', '601MR_LT2.jpg', '601MR_LT3.jpg', '601MR_PG1.jpg', '601MR_PG2.jpg', '601MR_PG3.jpg', '601MR_PN1.jpg', '601MR_PN2.jpg', '601MR_PN3.jpg', '601MR_SQ1.jpg', '601MR_SQ2.jpg', '601MR_SQ3.jpg', '601MR_ST1.jpg', '601MR_ST2.jpg', '601MR_ST3.jpg', 'landmark_to_csv2.ipynb', 'landmark_to_csv_os.ipynb', 'mediapipe_draw.ipynb', 'Untitled.ipynb', 'video']\n"
     ]
    }
   ],
   "source": [
    "dir_path = os.path.abspath(os.path.dirname(\"__file__\"))\n",
    "dir_list = os.listdir(dir_path)\n",
    "print(dir_list)"
   ]
  },
  {
   "cell_type": "code",
   "execution_count": 5,
   "id": "cd8c7c7b-bdd5-472b-b385-ffdb7053194a",
   "metadata": {},
   "outputs": [],
   "source": [
    "mp_drawing = mp.solutions.drawing_utils          # mediapipe 繪圖方法\n",
    "mp_drawing_styles = mp.solutions.drawing_styles  # mediapipe 繪圖樣式\n",
    "mp_hands = mp.solutions.hands                    # mediapipe 偵測手掌方法\n",
    "i = 0\n",
    "\n",
    "# For static images:\n",
    "IMAGE_FILES = dir_list\n",
    "with mp_hands.Hands(\n",
    "    static_image_mode=True,\n",
    "    max_num_hands=1,\n",
    "    min_detection_confidence=0.1,\n",
    "    min_tracking_confidence=0.1) as hands:\n",
    "    for idx, file in enumerate(IMAGE_FILES):\n",
    "        if file[0] not in ['1','2','3','4','5','6','7','8']:\n",
    "            continue\n",
    "        # Read an image, flip it around y-axis for correct handedness output (see\n",
    "        # above).\n",
    "        image = cv2.flip(cv2.imread(file), 1)\n",
    "        blank_image = np.zeros((480,480,3), np.uint8)\n",
    "        blank_image.fill(255)\n",
    "        # Convert the BGR image to RGB before processing.\n",
    "        results = hands.process(cv2.cvtColor(image, cv2.COLOR_BGR2RGB))\n",
    "        if not results.multi_hand_landmarks:\n",
    "            continue\n",
    "        for hand_landmarks in results.multi_hand_landmarks:\n",
    "            mp_drawing.draw_landmarks(\n",
    "            blank_image,\n",
    "            hand_landmarks,\n",
    "            mp_hands.HAND_CONNECTIONS,\n",
    "            mp_drawing_styles.get_default_hand_landmarks_style(),\n",
    "            mp_drawing_styles.get_default_hand_connections_style())\n",
    "            cv2.imwrite(\n",
    "            'image' + str(idx) + '.png', cv2.flip(blank_image, 1))"
   ]
  },
  {
   "cell_type": "code",
   "execution_count": null,
   "id": "c85b2fa8-6fd5-4cd2-bf14-1dfd3b7c7874",
   "metadata": {},
   "outputs": [],
   "source": []
  }
 ],
 "metadata": {
  "kernelspec": {
   "display_name": "Python 3 (ipykernel)",
   "language": "python",
   "name": "python3"
  },
  "language_info": {
   "codemirror_mode": {
    "name": "ipython",
    "version": 3
   },
   "file_extension": ".py",
   "mimetype": "text/x-python",
   "name": "python",
   "nbconvert_exporter": "python",
   "pygments_lexer": "ipython3",
   "version": "3.9.15"
  }
 },
 "nbformat": 4,
 "nbformat_minor": 5
}
