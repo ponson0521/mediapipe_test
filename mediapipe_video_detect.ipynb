{
 "cells": [
  {
   "cell_type": "code",
   "execution_count": 53,
   "id": "6169da6f",
   "metadata": {},
   "outputs": [
    {
     "name": "stdout",
     "output_type": "stream",
     "text": [
      "Requirement already satisfied: opencv-python in c:\\users\\tibame_t14\\anaconda3\\envs\\mediapipe\\lib\\site-packages (4.6.0.66)\n",
      "Requirement already satisfied: numpy>=1.14.5 in c:\\users\\tibame_t14\\anaconda3\\envs\\mediapipe\\lib\\site-packages (from opencv-python) (1.23.4)\n"
     ]
    }
   ],
   "source": [
    "!pip install opencv-python"
   ]
  },
  {
   "cell_type": "code",
   "execution_count": 54,
   "id": "82e615e4",
   "metadata": {
    "scrolled": true
   },
   "outputs": [
    {
     "name": "stdout",
     "output_type": "stream",
     "text": [
      "Requirement already satisfied: tensorflow in c:\\users\\tibame_t14\\anaconda3\\envs\\mediapipe\\lib\\site-packages (2.10.1)\n",
      "Requirement already satisfied: protobuf<3.20,>=3.9.2 in c:\\users\\tibame_t14\\anaconda3\\envs\\mediapipe\\lib\\site-packages (from tensorflow) (3.19.6)\n",
      "Requirement already satisfied: flatbuffers>=2.0 in c:\\users\\tibame_t14\\anaconda3\\envs\\mediapipe\\lib\\site-packages (from tensorflow) (22.10.26)\n",
      "Requirement already satisfied: libclang>=13.0.0 in c:\\users\\tibame_t14\\anaconda3\\envs\\mediapipe\\lib\\site-packages (from tensorflow) (14.0.6)\n",
      "Requirement already satisfied: setuptools in c:\\users\\tibame_t14\\anaconda3\\envs\\mediapipe\\lib\\site-packages (from tensorflow) (65.5.0)\n",
      "Requirement already satisfied: six>=1.12.0 in c:\\users\\tibame_t14\\anaconda3\\envs\\mediapipe\\lib\\site-packages (from tensorflow) (1.16.0)\n",
      "Requirement already satisfied: absl-py>=1.0.0 in c:\\users\\tibame_t14\\anaconda3\\envs\\mediapipe\\lib\\site-packages (from tensorflow) (1.3.0)\n",
      "Requirement already satisfied: tensorflow-estimator<2.11,>=2.10.0 in c:\\users\\tibame_t14\\anaconda3\\envs\\mediapipe\\lib\\site-packages (from tensorflow) (2.10.0)\n",
      "Requirement already satisfied: typing-extensions>=3.6.6 in c:\\users\\tibame_t14\\anaconda3\\envs\\mediapipe\\lib\\site-packages (from tensorflow) (4.3.0)\n",
      "Requirement already satisfied: opt-einsum>=2.3.2 in c:\\users\\tibame_t14\\anaconda3\\envs\\mediapipe\\lib\\site-packages (from tensorflow) (3.3.0)\n",
      "Requirement already satisfied: gast<=0.4.0,>=0.2.1 in c:\\users\\tibame_t14\\anaconda3\\envs\\mediapipe\\lib\\site-packages (from tensorflow) (0.4.0)\n",
      "Requirement already satisfied: termcolor>=1.1.0 in c:\\users\\tibame_t14\\anaconda3\\envs\\mediapipe\\lib\\site-packages (from tensorflow) (2.1.0)\n",
      "Requirement already satisfied: numpy>=1.20 in c:\\users\\tibame_t14\\anaconda3\\envs\\mediapipe\\lib\\site-packages (from tensorflow) (1.23.4)\n",
      "Requirement already satisfied: wrapt>=1.11.0 in c:\\users\\tibame_t14\\anaconda3\\envs\\mediapipe\\lib\\site-packages (from tensorflow) (1.14.1)\n",
      "Requirement already satisfied: astunparse>=1.6.0 in c:\\users\\tibame_t14\\anaconda3\\envs\\mediapipe\\lib\\site-packages (from tensorflow) (1.6.3)\n",
      "Requirement already satisfied: h5py>=2.9.0 in c:\\users\\tibame_t14\\anaconda3\\envs\\mediapipe\\lib\\site-packages (from tensorflow) (3.7.0)\n",
      "Requirement already satisfied: google-pasta>=0.1.1 in c:\\users\\tibame_t14\\anaconda3\\envs\\mediapipe\\lib\\site-packages (from tensorflow) (0.2.0)\n",
      "Requirement already satisfied: keras-preprocessing>=1.1.1 in c:\\users\\tibame_t14\\anaconda3\\envs\\mediapipe\\lib\\site-packages (from tensorflow) (1.1.2)\n",
      "Requirement already satisfied: grpcio<2.0,>=1.24.3 in c:\\users\\tibame_t14\\anaconda3\\envs\\mediapipe\\lib\\site-packages (from tensorflow) (1.50.0)\n",
      "Requirement already satisfied: keras<2.11,>=2.10.0 in c:\\users\\tibame_t14\\anaconda3\\envs\\mediapipe\\lib\\site-packages (from tensorflow) (2.10.0)\n",
      "Requirement already satisfied: tensorflow-io-gcs-filesystem>=0.23.1 in c:\\users\\tibame_t14\\anaconda3\\envs\\mediapipe\\lib\\site-packages (from tensorflow) (0.27.0)\n",
      "Requirement already satisfied: packaging in c:\\users\\tibame_t14\\anaconda3\\envs\\mediapipe\\lib\\site-packages (from tensorflow) (21.3)\n",
      "Requirement already satisfied: tensorboard<2.11,>=2.10 in c:\\users\\tibame_t14\\anaconda3\\envs\\mediapipe\\lib\\site-packages (from tensorflow) (2.10.1)\n",
      "Requirement already satisfied: wheel<1.0,>=0.23.0 in c:\\users\\tibame_t14\\anaconda3\\envs\\mediapipe\\lib\\site-packages (from astunparse>=1.6.0->tensorflow) (0.37.1)\n",
      "Requirement already satisfied: google-auth<3,>=1.6.3 in c:\\users\\tibame_t14\\anaconda3\\envs\\mediapipe\\lib\\site-packages (from tensorboard<2.11,>=2.10->tensorflow) (2.14.1)\n",
      "Requirement already satisfied: tensorboard-plugin-wit>=1.6.0 in c:\\users\\tibame_t14\\anaconda3\\envs\\mediapipe\\lib\\site-packages (from tensorboard<2.11,>=2.10->tensorflow) (1.8.1)\n",
      "Requirement already satisfied: requests<3,>=2.21.0 in c:\\users\\tibame_t14\\anaconda3\\envs\\mediapipe\\lib\\site-packages (from tensorboard<2.11,>=2.10->tensorflow) (2.28.1)\n",
      "Requirement already satisfied: werkzeug>=1.0.1 in c:\\users\\tibame_t14\\anaconda3\\envs\\mediapipe\\lib\\site-packages (from tensorboard<2.11,>=2.10->tensorflow) (2.2.2)\n",
      "Requirement already satisfied: google-auth-oauthlib<0.5,>=0.4.1 in c:\\users\\tibame_t14\\anaconda3\\envs\\mediapipe\\lib\\site-packages (from tensorboard<2.11,>=2.10->tensorflow) (0.4.6)\n",
      "Requirement already satisfied: tensorboard-data-server<0.7.0,>=0.6.0 in c:\\users\\tibame_t14\\anaconda3\\envs\\mediapipe\\lib\\site-packages (from tensorboard<2.11,>=2.10->tensorflow) (0.6.1)\n",
      "Requirement already satisfied: markdown>=2.6.8 in c:\\users\\tibame_t14\\anaconda3\\envs\\mediapipe\\lib\\site-packages (from tensorboard<2.11,>=2.10->tensorflow) (3.4.1)\n",
      "Requirement already satisfied: pyparsing!=3.0.5,>=2.0.2 in c:\\users\\tibame_t14\\anaconda3\\envs\\mediapipe\\lib\\site-packages (from packaging->tensorflow) (3.0.9)\n",
      "Requirement already satisfied: cachetools<6.0,>=2.0.0 in c:\\users\\tibame_t14\\anaconda3\\envs\\mediapipe\\lib\\site-packages (from google-auth<3,>=1.6.3->tensorboard<2.11,>=2.10->tensorflow) (5.2.0)\n",
      "Requirement already satisfied: rsa<5,>=3.1.4 in c:\\users\\tibame_t14\\anaconda3\\envs\\mediapipe\\lib\\site-packages (from google-auth<3,>=1.6.3->tensorboard<2.11,>=2.10->tensorflow) (4.9)\n",
      "Requirement already satisfied: pyasn1-modules>=0.2.1 in c:\\users\\tibame_t14\\anaconda3\\envs\\mediapipe\\lib\\site-packages (from google-auth<3,>=1.6.3->tensorboard<2.11,>=2.10->tensorflow) (0.2.8)\n",
      "Requirement already satisfied: requests-oauthlib>=0.7.0 in c:\\users\\tibame_t14\\anaconda3\\envs\\mediapipe\\lib\\site-packages (from google-auth-oauthlib<0.5,>=0.4.1->tensorboard<2.11,>=2.10->tensorflow) (1.3.1)\n",
      "Requirement already satisfied: importlib-metadata>=4.4 in c:\\users\\tibame_t14\\anaconda3\\envs\\mediapipe\\lib\\site-packages (from markdown>=2.6.8->tensorboard<2.11,>=2.10->tensorflow) (4.11.3)\n",
      "Requirement already satisfied: idna<4,>=2.5 in c:\\users\\tibame_t14\\anaconda3\\envs\\mediapipe\\lib\\site-packages (from requests<3,>=2.21.0->tensorboard<2.11,>=2.10->tensorflow) (3.4)\n",
      "Requirement already satisfied: charset-normalizer<3,>=2 in c:\\users\\tibame_t14\\anaconda3\\envs\\mediapipe\\lib\\site-packages (from requests<3,>=2.21.0->tensorboard<2.11,>=2.10->tensorflow) (2.0.4)\n",
      "Requirement already satisfied: urllib3<1.27,>=1.21.1 in c:\\users\\tibame_t14\\anaconda3\\envs\\mediapipe\\lib\\site-packages (from requests<3,>=2.21.0->tensorboard<2.11,>=2.10->tensorflow) (1.26.12)\n",
      "Requirement already satisfied: certifi>=2017.4.17 in c:\\users\\tibame_t14\\anaconda3\\envs\\mediapipe\\lib\\site-packages (from requests<3,>=2.21.0->tensorboard<2.11,>=2.10->tensorflow) (2022.9.24)\n",
      "Requirement already satisfied: MarkupSafe>=2.1.1 in c:\\users\\tibame_t14\\anaconda3\\envs\\mediapipe\\lib\\site-packages (from werkzeug>=1.0.1->tensorboard<2.11,>=2.10->tensorflow) (2.1.1)\n",
      "Requirement already satisfied: zipp>=0.5 in c:\\users\\tibame_t14\\anaconda3\\envs\\mediapipe\\lib\\site-packages (from importlib-metadata>=4.4->markdown>=2.6.8->tensorboard<2.11,>=2.10->tensorflow) (3.8.0)\n",
      "Requirement already satisfied: pyasn1<0.5.0,>=0.4.6 in c:\\users\\tibame_t14\\anaconda3\\envs\\mediapipe\\lib\\site-packages (from pyasn1-modules>=0.2.1->google-auth<3,>=1.6.3->tensorboard<2.11,>=2.10->tensorflow) (0.4.8)\n",
      "Requirement already satisfied: oauthlib>=3.0.0 in c:\\users\\tibame_t14\\anaconda3\\envs\\mediapipe\\lib\\site-packages (from requests-oauthlib>=0.7.0->google-auth-oauthlib<0.5,>=0.4.1->tensorboard<2.11,>=2.10->tensorflow) (3.2.2)\n"
     ]
    }
   ],
   "source": [
    "!pip install tensorflow"
   ]
  },
  {
   "cell_type": "code",
   "execution_count": 55,
   "id": "c2214238",
   "metadata": {
    "scrolled": true
   },
   "outputs": [
    {
     "name": "stdout",
     "output_type": "stream",
     "text": [
      "Requirement already satisfied: mediapipe in c:\\users\\tibame_t14\\anaconda3\\envs\\mediapipe\\lib\\site-packages (0.9.0)\n",
      "Requirement already satisfied: protobuf<4,>=3.11 in c:\\users\\tibame_t14\\anaconda3\\envs\\mediapipe\\lib\\site-packages (from mediapipe) (3.19.6)\n",
      "Requirement already satisfied: opencv-contrib-python in c:\\users\\tibame_t14\\anaconda3\\envs\\mediapipe\\lib\\site-packages (from mediapipe) (4.6.0.66)\n",
      "Requirement already satisfied: matplotlib in c:\\users\\tibame_t14\\anaconda3\\envs\\mediapipe\\lib\\site-packages (from mediapipe) (3.6.2)\n",
      "Requirement already satisfied: attrs>=19.1.0 in c:\\users\\tibame_t14\\anaconda3\\envs\\mediapipe\\lib\\site-packages (from mediapipe) (22.1.0)\n",
      "Requirement already satisfied: numpy in c:\\users\\tibame_t14\\anaconda3\\envs\\mediapipe\\lib\\site-packages (from mediapipe) (1.23.4)\n",
      "Requirement already satisfied: absl-py in c:\\users\\tibame_t14\\anaconda3\\envs\\mediapipe\\lib\\site-packages (from mediapipe) (1.3.0)\n",
      "Requirement already satisfied: flatbuffers>=2.0 in c:\\users\\tibame_t14\\anaconda3\\envs\\mediapipe\\lib\\site-packages (from mediapipe) (22.10.26)\n",
      "Requirement already satisfied: python-dateutil>=2.7 in c:\\users\\tibame_t14\\anaconda3\\envs\\mediapipe\\lib\\site-packages (from matplotlib->mediapipe) (2.8.2)\n",
      "Requirement already satisfied: cycler>=0.10 in c:\\users\\tibame_t14\\anaconda3\\envs\\mediapipe\\lib\\site-packages (from matplotlib->mediapipe) (0.11.0)\n",
      "Requirement already satisfied: packaging>=20.0 in c:\\users\\tibame_t14\\anaconda3\\envs\\mediapipe\\lib\\site-packages (from matplotlib->mediapipe) (21.3)\n",
      "Requirement already satisfied: contourpy>=1.0.1 in c:\\users\\tibame_t14\\anaconda3\\envs\\mediapipe\\lib\\site-packages (from matplotlib->mediapipe) (1.0.6)\n",
      "Requirement already satisfied: pyparsing>=2.2.1 in c:\\users\\tibame_t14\\anaconda3\\envs\\mediapipe\\lib\\site-packages (from matplotlib->mediapipe) (3.0.9)\n",
      "Requirement already satisfied: kiwisolver>=1.0.1 in c:\\users\\tibame_t14\\anaconda3\\envs\\mediapipe\\lib\\site-packages (from matplotlib->mediapipe) (1.4.4)\n",
      "Requirement already satisfied: fonttools>=4.22.0 in c:\\users\\tibame_t14\\anaconda3\\envs\\mediapipe\\lib\\site-packages (from matplotlib->mediapipe) (4.38.0)\n",
      "Requirement already satisfied: pillow>=6.2.0 in c:\\users\\tibame_t14\\anaconda3\\envs\\mediapipe\\lib\\site-packages (from matplotlib->mediapipe) (9.3.0)\n",
      "Requirement already satisfied: six>=1.5 in c:\\users\\tibame_t14\\anaconda3\\envs\\mediapipe\\lib\\site-packages (from python-dateutil>=2.7->matplotlib->mediapipe) (1.16.0)\n"
     ]
    }
   ],
   "source": [
    "!pip install mediapipe"
   ]
  },
  {
   "cell_type": "markdown",
   "id": "92018886",
   "metadata": {},
   "source": [
    "## 通過影片使用mediapipe"
   ]
  },
  {
   "cell_type": "code",
   "execution_count": 17,
   "id": "091e0533",
   "metadata": {},
   "outputs": [],
   "source": [
    "import cv2\n",
    "import mediapipe as mp"
   ]
  },
  {
   "cell_type": "code",
   "execution_count": 1,
   "id": "36ea2907",
   "metadata": {},
   "outputs": [
    {
     "name": "stdout",
     "output_type": "stream",
     "text": [
      "Cannot receive frame\n"
     ]
    }
   ],
   "source": [
    "mp_drawing = mp.solutions.drawing_utils          # mediapipe 繪圖方法\n",
    "mp_drawing_styles = mp.solutions.drawing_styles  # mediapipe 繪圖樣式\n",
    "mp_hands = mp.solutions.hands                    # mediapipe 偵測手掌方法\n",
    "cap = cv2.VideoCapture('./5/522b.mp4')\n",
    "fourcc = cv2.VideoWriter_fourcc(*'mp4v')          # 設定影片的格式為 MJPG\"\n",
    "out2 = cv2.VideoWriter('output2.mp4', fourcc, 30.0, (480,  480))  # 產生空的影片\"\n",
    "i = 0\n",
    "\n",
    "with mp_hands.Hands(\n",
    "    model_complexity=0,\n",
    "    # max_num_hands=1,\n",
    "    min_detection_confidence=0.5,\n",
    "    min_tracking_confidence=0.5) as hands:\n",
    "\n",
    "    if not cap.isOpened():\n",
    "        print(\"Cannot open camera\")\n",
    "        exit()\n",
    "    while True:\n",
    "        ret, img = cap.read()\n",
    "        if not ret:\n",
    "            print(\"Cannot receive frame\")\n",
    "            break\n",
    "        i += 1\n",
    "        cv2.imshow('oxxostudio1', img)\n",
    "        img2 = cv2.cvtColor(img, cv2.COLOR_BGR2RGB)   # 將 BGR 轉換成 RGB\n",
    "#         imgorigin = cv2.cvtColor(img2, cv2.COLOR_RGB2BGR)    # 沒有偵測節點的原圖片\n",
    "        results = hands.process(img2)                 # 偵測手掌\n",
    "        if results.multi_hand_landmarks:\n",
    "            for hand_landmarks in results.multi_hand_landmarks:\n",
    "                # 將節點和骨架繪製到影像中\n",
    "                mp_drawing.draw_landmarks(\n",
    "                    img,\n",
    "                    hand_landmarks,\n",
    "                    mp_hands.HAND_CONNECTIONS,\n",
    "                    mp_drawing_styles.get_default_hand_landmarks_style(),\n",
    "                    mp_drawing_styles.get_default_hand_connections_style())\n",
    "        cv2.imshow('oxxostudio', img)\n",
    "        out2.write(img)    # 寫入影片\n",
    "#         cv2.imwrite('image{}.jpg'.format(i), img)    # 寫入圖片\n",
    "        if cv2.waitKey(1) & 0xFF == ord('q'):\n",
    "            break    # 按下 q 鍵停止\n",
    "    \n",
    "    \n",
    "cap.release()\n",
    "out2.release()\n",
    "cv2.destroyAllWindows()"
   ]
  },
  {
   "cell_type": "code",
   "execution_count": null,
   "id": "6e53de25",
   "metadata": {},
   "outputs": [],
   "source": []
  }
 ],
 "metadata": {
  "kernelspec": {
   "display_name": "Python 3 (ipykernel)",
   "language": "python",
   "name": "python3"
  },
  "language_info": {
   "codemirror_mode": {
    "name": "ipython",
    "version": 3
   },
   "file_extension": ".py",
   "mimetype": "text/x-python",
   "name": "python",
   "nbconvert_exporter": "python",
   "pygments_lexer": "ipython3",
   "version": "3.9.15"
  }
 },
 "nbformat": 4,
 "nbformat_minor": 5
}
